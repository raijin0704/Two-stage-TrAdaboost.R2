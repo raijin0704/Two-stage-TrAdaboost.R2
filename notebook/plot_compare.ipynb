{
 "cells": [
  {
   "cell_type": "code",
   "execution_count": 12,
   "metadata": {},
   "outputs": [],
   "source": [
    "import pandas as pd\n",
    "import numpy as np\n",
    "import matplotlib.pyplot as plt"
   ]
  },
  {
   "cell_type": "code",
   "execution_count": 5,
   "metadata": {},
   "outputs": [],
   "source": [
    "df_result = pd.read_csv(\"../result/concrete_compressive_mse.csv\", index_col=0)"
   ]
  },
  {
   "cell_type": "code",
   "execution_count": 6,
   "metadata": {},
   "outputs": [
    {
     "data": {
      "text/html": [
       "<div>\n",
       "<style scoped>\n",
       "    .dataframe tbody tr th:only-of-type {\n",
       "        vertical-align: middle;\n",
       "    }\n",
       "\n",
       "    .dataframe tbody tr th {\n",
       "        vertical-align: top;\n",
       "    }\n",
       "\n",
       "    .dataframe thead th {\n",
       "        text-align: right;\n",
       "    }\n",
       "</style>\n",
       "<table border=\"1\" class=\"dataframe\">\n",
       "  <thead>\n",
       "    <tr style=\"text-align: right;\">\n",
       "      <th></th>\n",
       "      <th>AdaBoost</th>\n",
       "      <th>Two-StageTrAdaBoost</th>\n",
       "      <th>SimpleTrAdaBoostR2</th>\n",
       "      <th>SimpleTrAdaBoostRT</th>\n",
       "    </tr>\n",
       "  </thead>\n",
       "  <tbody>\n",
       "    <tr>\n",
       "      <td>0</td>\n",
       "      <td>100.436108</td>\n",
       "      <td>94.706459</td>\n",
       "      <td>120.031848</td>\n",
       "      <td>104.877502</td>\n",
       "    </tr>\n",
       "    <tr>\n",
       "      <td>1</td>\n",
       "      <td>167.770834</td>\n",
       "      <td>52.854586</td>\n",
       "      <td>161.244454</td>\n",
       "      <td>164.225926</td>\n",
       "    </tr>\n",
       "    <tr>\n",
       "      <td>2</td>\n",
       "      <td>146.455182</td>\n",
       "      <td>96.660770</td>\n",
       "      <td>130.626805</td>\n",
       "      <td>196.052396</td>\n",
       "    </tr>\n",
       "    <tr>\n",
       "      <td>3</td>\n",
       "      <td>110.897830</td>\n",
       "      <td>122.738143</td>\n",
       "      <td>194.351322</td>\n",
       "      <td>102.089508</td>\n",
       "    </tr>\n",
       "    <tr>\n",
       "      <td>4</td>\n",
       "      <td>141.030614</td>\n",
       "      <td>68.450813</td>\n",
       "      <td>124.662841</td>\n",
       "      <td>145.287314</td>\n",
       "    </tr>\n",
       "    <tr>\n",
       "      <td>5</td>\n",
       "      <td>223.427210</td>\n",
       "      <td>134.629212</td>\n",
       "      <td>176.193766</td>\n",
       "      <td>213.054348</td>\n",
       "    </tr>\n",
       "    <tr>\n",
       "      <td>6</td>\n",
       "      <td>110.198773</td>\n",
       "      <td>224.359462</td>\n",
       "      <td>151.518690</td>\n",
       "      <td>199.301711</td>\n",
       "    </tr>\n",
       "    <tr>\n",
       "      <td>7</td>\n",
       "      <td>175.662026</td>\n",
       "      <td>60.099499</td>\n",
       "      <td>138.420384</td>\n",
       "      <td>107.617495</td>\n",
       "    </tr>\n",
       "    <tr>\n",
       "      <td>8</td>\n",
       "      <td>248.123502</td>\n",
       "      <td>130.959451</td>\n",
       "      <td>138.501124</td>\n",
       "      <td>145.624468</td>\n",
       "    </tr>\n",
       "    <tr>\n",
       "      <td>9</td>\n",
       "      <td>176.568520</td>\n",
       "      <td>195.648169</td>\n",
       "      <td>258.833933</td>\n",
       "      <td>93.526619</td>\n",
       "    </tr>\n",
       "    <tr>\n",
       "      <td>10</td>\n",
       "      <td>153.087803</td>\n",
       "      <td>74.909066</td>\n",
       "      <td>104.989687</td>\n",
       "      <td>145.938462</td>\n",
       "    </tr>\n",
       "    <tr>\n",
       "      <td>11</td>\n",
       "      <td>155.567569</td>\n",
       "      <td>109.591624</td>\n",
       "      <td>155.312735</td>\n",
       "      <td>154.449562</td>\n",
       "    </tr>\n",
       "    <tr>\n",
       "      <td>12</td>\n",
       "      <td>99.930431</td>\n",
       "      <td>113.384079</td>\n",
       "      <td>105.460607</td>\n",
       "      <td>137.987649</td>\n",
       "    </tr>\n",
       "    <tr>\n",
       "      <td>13</td>\n",
       "      <td>200.014301</td>\n",
       "      <td>67.639693</td>\n",
       "      <td>113.281348</td>\n",
       "      <td>98.572594</td>\n",
       "    </tr>\n",
       "    <tr>\n",
       "      <td>14</td>\n",
       "      <td>245.345108</td>\n",
       "      <td>165.940114</td>\n",
       "      <td>175.531691</td>\n",
       "      <td>163.542303</td>\n",
       "    </tr>\n",
       "  </tbody>\n",
       "</table>\n",
       "</div>"
      ],
      "text/plain": [
       "      AdaBoost  Two-StageTrAdaBoost  SimpleTrAdaBoostR2  SimpleTrAdaBoostRT\n",
       "0   100.436108            94.706459          120.031848          104.877502\n",
       "1   167.770834            52.854586          161.244454          164.225926\n",
       "2   146.455182            96.660770          130.626805          196.052396\n",
       "3   110.897830           122.738143          194.351322          102.089508\n",
       "4   141.030614            68.450813          124.662841          145.287314\n",
       "5   223.427210           134.629212          176.193766          213.054348\n",
       "6   110.198773           224.359462          151.518690          199.301711\n",
       "7   175.662026            60.099499          138.420384          107.617495\n",
       "8   248.123502           130.959451          138.501124          145.624468\n",
       "9   176.568520           195.648169          258.833933           93.526619\n",
       "10  153.087803            74.909066          104.989687          145.938462\n",
       "11  155.567569           109.591624          155.312735          154.449562\n",
       "12   99.930431           113.384079          105.460607          137.987649\n",
       "13  200.014301            67.639693          113.281348           98.572594\n",
       "14  245.345108           165.940114          175.531691          163.542303"
      ]
     },
     "execution_count": 6,
     "metadata": {},
     "output_type": "execute_result"
    }
   ],
   "source": [
    "df_result"
   ]
  },
  {
   "cell_type": "code",
   "execution_count": 10,
   "metadata": {},
   "outputs": [],
   "source": [
    "result_mean = df_result.mean(axis=0)\n",
    "result_std = df_result.std(axis=0)"
   ]
  },
  {
   "cell_type": "code",
   "execution_count": 29,
   "metadata": {},
   "outputs": [
    {
     "data": {
      "text/plain": [
       "Text(0.5, 1.0, 'Concrete Compressive MSE  n=15')"
      ]
     },
     "execution_count": 29,
     "metadata": {},
     "output_type": "execute_result"
    },
    {
     "data": {
      "image/png": "[encoded data removed]",
      "text/plain": [
       "<Figure size 720x360 with 1 Axes>"
      ]
     },
     "metadata": {
      "needs_background": "light"
     },
     "output_type": "display_data"
    }
   ],
   "source": [
    "plt.figure(figsize=(10,5))\n",
    "plt.bar(np.arange(len(result_mean)), result_mean, yerr=result_std, tick_label=result_mean.index, ecolor=\"black\", width=0.5)\n",
    "plt.title(\"Concrete Compressive MSE  n=%s\" %len(df_result))"
   ]
  },
  {
   "cell_type": "code",
   "execution_count": 17,
   "metadata": {},
   "outputs": [
    {
     "data": {
      "text/plain": [
       "Index(['AdaBoost', 'Two-StageTrAdaBoost', 'SimpleTrAdaBoostR2',\n",
       "       'SimpleTrAdaBoostRT'],\n",
       "      dtype='object')"
      ]
     },
     "execution_count": 17,
     "metadata": {},
     "output_type": "execute_result"
    }
   ],
   "source": [
    "result_mean.index"
   ]
  },
  {
   "cell_type": "code",
   "execution_count": null,
   "metadata": {},
   "outputs": [],
   "source": [
    "df_result.index.apply(lambda x: idx_target[x])"
   ]
  }
 ],
 "metadata": {
  "kernelspec": {
   "display_name": "Python 3",
   "language": "python",
   "name": "python3"
  },
  "language_info": {
   "codemirror_mode": {
    "name": "ipython",
    "version": 3
   },
   "file_extension": ".py",
   "mimetype": "text/x-python",
   "name": "python",
   "nbconvert_exporter": "python",
   "pygments_lexer": "ipython3",
   "version": "3.7.3"
  }
 },
 "nbformat": 4,
 "nbformat_minor": 2
}
